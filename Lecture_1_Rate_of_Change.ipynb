{
  "cells": [
    {
      "cell_type": "markdown",
      "metadata": {
        "id": "view-in-github",
        "colab_type": "text"
      },
      "source": [
        "<a href=\"https://colab.research.google.com/github/AbelS4l4S/MIT-18.01-Single-Variable-Calculus/blob/main/Lecture_1_Rate_of_Change.ipynb\" target=\"_parent\"><img src=\"https://colab.research.google.com/assets/colab-badge.svg\" alt=\"Open In Colab\"/></a>"
      ]
    },
    {
      "cell_type": "markdown",
      "source": [
        "# Lecture One: \"Rate of Change\"\n",
        "Differentiation involves finding the tangent line to a function $y=f(x)$ at a specific x-value $x_0$, represented by point $P(x_0,f(x_0))\\Longleftrightarrow P(x_0,y_0)$. As shown in **Figure 1** \n",
        "\n",
        "<p align=\"center\">\n",
        "  <img src=\"https://i.imgur.com/vnD92VC.png\" alt=\"Fig-1\">\n",
        "  <br> <strong>Figure 1:</strong> Geometry interpretation of a differentiation\n",
        "</p>\n",
        "\n",
        "## How to find the tangent line? \n",
        "The equation of any line (tangent line including) it is represented by **Eq.1**\n",
        "\n",
        "<center>\n",
        "$y-y_0=m(x-x_0) \\quad $ <strong>Eq.1</strong>\n",
        "</center>\n",
        "\n",
        "This show us that we need two pieces of information in order to find the tangent line at $x_0$.\n",
        "- Evaluating $f(x_0)=y_0$ to complete the point $P(x_0,y_0)$ \n",
        "- and the slope $m$, also represented in calculus as $f'(x)$\n",
        "\n",
        "Leanding us to the following definition:\n",
        "> \"$f'(x_0)$, read as $f$ prime of $x_0$, which is known as the derivative of $f$ at $x_0$ is the slope $m$ of the tangent line to $y=f(x)$ at $P$\"\n",
        "\n",
        "## Tangent line vs. any other line\n",
        "<p align=\"center\">\n",
        "  <img src=\"https://i.imgur.com/5b0lgHH.png\" alt=\"Fig-1\">\n",
        "  <br> <strong>Figure 2:</strong> Comparison between a tangent line (red line) and secant line (onrange line) in a function.\n",
        "</p>\n",
        "If the poir task it is to find the tangent line, how do we known? that actualy we have a tangent line and no other kind of line like secant line. "
      ],
      "metadata": {
        "id": "hYKMfNtqpVlH"
      }
    },
    {
      "cell_type": "code",
      "execution_count": null,
      "metadata": {
        "id": "Mp5KXjJ3bQQq"
      },
      "outputs": [],
      "source": []
    }
  ],
  "metadata": {
    "colab": {
      "provenance": [],
      "authorship_tag": "ABX9TyNO95NpPgTu4wlzPxe8nRIL",
      "include_colab_link": true
    },
    "kernelspec": {
      "display_name": "Python 3",
      "name": "python3"
    },
    "language_info": {
      "name": "python"
    }
  },
  "nbformat": 4,
  "nbformat_minor": 0
}